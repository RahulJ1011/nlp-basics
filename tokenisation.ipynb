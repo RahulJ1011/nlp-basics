{
 "cells": [
  {
   "cell_type": "code",
   "execution_count": 1,
   "id": "71f1c8a3-f5a6-47fd-b7f9-976194de2a77",
   "metadata": {},
   "outputs": [],
   "source": [
    "import spacy"
   ]
  },
  {
   "cell_type": "code",
   "execution_count": 3,
   "id": "bc48da7a-1a12-4d07-b5ce-afbb5b03d068",
   "metadata": {},
   "outputs": [],
   "source": [
    "nlp = spacy.load(\"en_core_web_sm\")"
   ]
  },
  {
   "cell_type": "code",
   "execution_count": 4,
   "id": "670aa2fe-7832-4d56-9e6c-889aa87e5b9d",
   "metadata": {},
   "outputs": [],
   "source": [
    "doc = nlp(\"Elon flew to mars yesterday. He carried biriyani with him\")"
   ]
  },
  {
   "cell_type": "code",
   "execution_count": 9,
   "id": "d1996794-0e47-4d19-b1ac-0ccf959facaf",
   "metadata": {},
   "outputs": [
    {
     "name": "stdout",
     "output_type": "stream",
     "text": [
      "Elon  | PROPN | proper noun\n",
      "flew  | VERB | verb\n",
      "to  | ADP | adposition\n",
      "mars  | NOUN | noun\n",
      "yesterday  | NOUN | noun\n",
      ".  | PUNCT | punctuation\n",
      "He  | PRON | pronoun\n",
      "carried  | VERB | verb\n",
      "biriyani  | PROPN | proper noun\n",
      "with  | ADP | adposition\n",
      "him  | PRON | pronoun\n"
     ]
    }
   ],
   "source": [
    "for token in doc:\n",
    "    print(token, \" |\", token.pos_, \"|\", spacy.explain(token.pos_))  #parts of speech and explanation"
   ]
  },
  {
   "cell_type": "code",
   "execution_count": 13,
   "id": "d7d9516b-94c0-4613-9633-0ccb57405f49",
   "metadata": {},
   "outputs": [],
   "source": [
    "doc = nlp(\"Wow! Dr. Strange has arrived\")"
   ]
  },
  {
   "cell_type": "code",
   "execution_count": 14,
   "id": "0172728c-42d7-4bae-891c-b9a45eabfaea",
   "metadata": {},
   "outputs": [
    {
     "name": "stdout",
     "output_type": "stream",
     "text": [
      "Wow | INTJ | interjection | UH | interjection\n",
      "! | PUNCT | punctuation | . | punctuation mark, sentence closer\n",
      "Dr. | PROPN | proper noun | NNP | noun, proper singular\n",
      "Strange | PROPN | proper noun | NNP | noun, proper singular\n",
      "has | AUX | auxiliary | VBZ | verb, 3rd person singular present\n",
      "arrived | VERB | verb | VBN | verb, past participle\n"
     ]
    }
   ],
   "source": [
    "for token in doc:\n",
    "    print(token, \"|\",token.pos_, \"|\",spacy.explain(token.pos_), \"|\", token.tag_, \"|\", spacy.explain(token.tag_))"
   ]
  },
  {
   "cell_type": "code",
   "execution_count": 15,
   "id": "5ffe8edd-8024-4ef7-b5a6-1c7d0877c991",
   "metadata": {},
   "outputs": [],
   "source": [
    "earnings_text = '''Microsoft Cloud Strength Fuels Third Quarter Results\n",
    "REDMOND, Wash. — April 25, 2024 — Microsoft Corp. today announced the following results for the quarter ended March 31, 2024, as compared to the corresponding period of last fiscal year:\n",
    "Revenue was $61.9 billion and increased 17% Operating income was $27.6 billion and increased 23% Net income was $21.9 billion and increased 20%\n",
    "Diluted earnings per share was $2.94 and increased 20%'''"
   ]
  },
  {
   "cell_type": "code",
   "execution_count": 17,
   "id": "885c76e7-a6ae-4114-828b-86f16c3ed3b1",
   "metadata": {},
   "outputs": [
    {
     "name": "stdout",
     "output_type": "stream",
     "text": [
      "Microsoft\n",
      "Cloud\n",
      "Strength\n",
      "Fuels\n",
      "Third\n",
      "Quarter\n",
      "Results\n",
      "REDMOND\n",
      "Wash.\n",
      "April\n",
      "25\n",
      "2024\n",
      "Microsoft\n",
      "Corp.\n",
      "today\n",
      "announced\n",
      "the\n",
      "following\n",
      "results\n",
      "for\n",
      "the\n",
      "quarter\n",
      "ended\n",
      "March\n",
      "31\n",
      "2024\n",
      "as\n",
      "compared\n",
      "to\n",
      "the\n",
      "corresponding\n",
      "period\n",
      "of\n",
      "last\n",
      "fiscal\n",
      "year\n",
      "Revenue\n",
      "was\n",
      "$\n",
      "61.9\n",
      "billion\n",
      "and\n",
      "increased\n",
      "17\n",
      "%\n",
      "Operating\n",
      "income\n",
      "was\n",
      "$\n",
      "27.6\n",
      "billion\n",
      "and\n",
      "increased\n",
      "23\n",
      "%\n",
      "Net\n",
      "income\n",
      "was\n",
      "$\n",
      "21.9\n",
      "billion\n",
      "and\n",
      "increased\n",
      "20\n",
      "%\n",
      "Diluted\n",
      "earnings\n",
      "per\n",
      "share\n",
      "was\n",
      "$\n",
      "2.94\n",
      "and\n",
      "increased\n",
      "20\n",
      "%\n"
     ]
    }
   ],
   "source": [
    "doc = nlp(earnings_text)\n",
    "for token in doc:\n",
    "    if token.pos_ not in ['SPACE','X','PUNCT']:\n",
    "        print(token)"
   ]
  },
  {
   "cell_type": "code",
   "execution_count": 18,
   "id": "b91ec8f5-98dd-45f7-8c38-e8660ed0ada6",
   "metadata": {},
   "outputs": [
    {
     "name": "stdout",
     "output_type": "stream",
     "text": [
      "{96: 12, 92: 15, 103: 3, 97: 7, 93: 15, 100: 10, 90: 3, 85: 4, 98: 1, 84: 4, 87: 4, 99: 4, 89: 4}\n"
     ]
    }
   ],
   "source": [
    "count = doc.count_by(spacy.attrs.POS)\n",
    "print(count)"
   ]
  },
  {
   "cell_type": "code",
   "execution_count": 19,
   "id": "4f3c0b91-3740-46c1-9820-186e8f65e139",
   "metadata": {},
   "outputs": [
    {
     "data": {
      "text/plain": [
       "'PROPN'"
      ]
     },
     "execution_count": 19,
     "metadata": {},
     "output_type": "execute_result"
    }
   ],
   "source": [
    "doc.vocab[96].text"
   ]
  },
  {
   "cell_type": "code",
   "execution_count": null,
   "id": "08e30b27-6c38-4a59-b2d2-9a70c664baaf",
   "metadata": {},
   "outputs": [],
   "source": []
  }
 ],
 "metadata": {
  "kernelspec": {
   "display_name": "Python 3 (ipykernel)",
   "language": "python",
   "name": "python3"
  },
  "language_info": {
   "codemirror_mode": {
    "name": "ipython",
    "version": 3
   },
   "file_extension": ".py",
   "mimetype": "text/x-python",
   "name": "python",
   "nbconvert_exporter": "python",
   "pygments_lexer": "ipython3",
   "version": "3.12.3"
  }
 },
 "nbformat": 4,
 "nbformat_minor": 5
}
